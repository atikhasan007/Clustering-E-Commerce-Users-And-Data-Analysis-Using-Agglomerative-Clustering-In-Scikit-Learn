{
 "cells": [
  {
   "cell_type": "markdown",
   "id": "fb03fc0c",
   "metadata": {},
   "source": [
    "# Problem Statement:"
   ]
  },
  {
   "cell_type": "raw",
   "id": "a7f93931",
   "metadata": {},
   "source": [
    "\n",
    "You are tasked with analyzing customer behavioral data for an e-commerce website. The goal is to cluster users based on their activity patterns and purchase preferences. The dataset contains six key features related to customer interactions, and the clustering analysis will help group similar users, allowing for more personalized marketing strategies."
   ]
  },
  {
   "cell_type": "markdown",
   "id": "894a77be",
   "metadata": {},
   "source": [
    "# create a Realistic Dummy DATAset\n"
   ]
  },
  {
   "cell_type": "code",
   "execution_count": 1,
   "id": "bd2ca549",
   "metadata": {},
   "outputs": [],
   "source": [
    "# Import necessary libraries\n",
    "import pandas as pd\n",
    "\n",
    "# Create a realistic dummy dataset with 6 features for an e-commerce platform\n",
    "data = {\n",
    "    'Session_Duration': [23, 45, 15, 67, 34, 23, 56, 23, 45, 12, 24, 38, 25, 32, 64, 58, 45, 43, 47, 52],\n",
    "    'Pages_Visited': [5, 8, 2, 10, 7, 5, 9, 4, 6, 2, 5, 7, 3, 5, 9, 10, 8, 7, 6, 9],\n",
    "    'Items_in_Cart': [3, 6, 1, 9, 4, 3, 7, 2, 5, 1, 4, 5, 2, 4, 8, 9, 7, 6, 5, 8],\n",
    "    'Avg_Session_Value': [100, 300, 80, 450, 200, 110, 390, 90, 250, 60, 110, 230, 100, 180, 400, 410, 360, 320, 310, 380],\n",
    "    'Time_Spent_on_Site': [150, 180, 70, 230, 140, 120, 200, 90, 170, 60, 110, 160, 100, 130, 240, 250, 210, 190, 180, 220],\n",
    "    'Purchase_History': [5, 12, 2, 15, 10, 5, 14, 4, 10, 2, 6, 11, 3, 7, 13, 14, 12, 10, 11, 13]\n",
    "}"
   ]
  },
  {
   "cell_type": "code",
   "execution_count": 2,
   "id": "c3688a3f",
   "metadata": {},
   "outputs": [],
   "source": [
    "#convert the data to a dataframe \n",
    "df = pd.DataFrame(data)"
   ]
  },
  {
   "cell_type": "code",
   "execution_count": 3,
   "id": "123f1ae5",
   "metadata": {},
   "outputs": [
    {
     "data": {
      "text/html": [
       "<div>\n",
       "<style scoped>\n",
       "    .dataframe tbody tr th:only-of-type {\n",
       "        vertical-align: middle;\n",
       "    }\n",
       "\n",
       "    .dataframe tbody tr th {\n",
       "        vertical-align: top;\n",
       "    }\n",
       "\n",
       "    .dataframe thead th {\n",
       "        text-align: right;\n",
       "    }\n",
       "</style>\n",
       "<table border=\"1\" class=\"dataframe\">\n",
       "  <thead>\n",
       "    <tr style=\"text-align: right;\">\n",
       "      <th></th>\n",
       "      <th>Session_Duration</th>\n",
       "      <th>Pages_Visited</th>\n",
       "      <th>Items_in_Cart</th>\n",
       "      <th>Avg_Session_Value</th>\n",
       "      <th>Time_Spent_on_Site</th>\n",
       "      <th>Purchase_History</th>\n",
       "    </tr>\n",
       "  </thead>\n",
       "  <tbody>\n",
       "    <tr>\n",
       "      <th>0</th>\n",
       "      <td>23</td>\n",
       "      <td>5</td>\n",
       "      <td>3</td>\n",
       "      <td>100</td>\n",
       "      <td>150</td>\n",
       "      <td>5</td>\n",
       "    </tr>\n",
       "    <tr>\n",
       "      <th>1</th>\n",
       "      <td>45</td>\n",
       "      <td>8</td>\n",
       "      <td>6</td>\n",
       "      <td>300</td>\n",
       "      <td>180</td>\n",
       "      <td>12</td>\n",
       "    </tr>\n",
       "    <tr>\n",
       "      <th>2</th>\n",
       "      <td>15</td>\n",
       "      <td>2</td>\n",
       "      <td>1</td>\n",
       "      <td>80</td>\n",
       "      <td>70</td>\n",
       "      <td>2</td>\n",
       "    </tr>\n",
       "    <tr>\n",
       "      <th>3</th>\n",
       "      <td>67</td>\n",
       "      <td>10</td>\n",
       "      <td>9</td>\n",
       "      <td>450</td>\n",
       "      <td>230</td>\n",
       "      <td>15</td>\n",
       "    </tr>\n",
       "    <tr>\n",
       "      <th>4</th>\n",
       "      <td>34</td>\n",
       "      <td>7</td>\n",
       "      <td>4</td>\n",
       "      <td>200</td>\n",
       "      <td>140</td>\n",
       "      <td>10</td>\n",
       "    </tr>\n",
       "  </tbody>\n",
       "</table>\n",
       "</div>"
      ],
      "text/plain": [
       "   Session_Duration  Pages_Visited  Items_in_Cart  Avg_Session_Value  \\\n",
       "0                23              5              3                100   \n",
       "1                45              8              6                300   \n",
       "2                15              2              1                 80   \n",
       "3                67             10              9                450   \n",
       "4                34              7              4                200   \n",
       "\n",
       "   Time_Spent_on_Site  Purchase_History  \n",
       "0                 150                 5  \n",
       "1                 180                12  \n",
       "2                  70                 2  \n",
       "3                 230                15  \n",
       "4                 140                10  "
      ]
     },
     "execution_count": 3,
     "metadata": {},
     "output_type": "execute_result"
    }
   ],
   "source": [
    "df.head()"
   ]
  },
  {
   "cell_type": "markdown",
   "id": "d55dadc9",
   "metadata": {},
   "source": [
    "# Explanation of Feature:"
   ]
  },
  {
   "cell_type": "raw",
   "id": "27d7b793",
   "metadata": {},
   "source": [
    "Session_Duration: Total time (in minutes) spent on the site per session.\n",
    "\n",
    "Pages_Visited: Number of pages visited during the session.\n",
    "\n",
    "Items_in_Cart: Number of items added to the cart.\n",
    "\n",
    "Avg_Session_Value: Average monetary value of the session (in USD).\n",
    "\n",
    "Time_Spent_on_Site: Total time spent on the website across all sessions (in minutes).\n",
    "\n",
    "Purchase_History: Total number of purchases made by the customer on the platform.\n",
    "\n"
   ]
  },
  {
   "cell_type": "markdown",
   "id": "744116ec",
   "metadata": {},
   "source": [
    "# Import Required Libraires for clustering "
   ]
  },
  {
   "cell_type": "code",
   "execution_count": 7,
   "id": "2764ed60",
   "metadata": {},
   "outputs": [],
   "source": [
    "#import Libraries for clustering \n",
    "\n",
    "from sklearn.preprocessing import StandardScaler #mean = 0, std = 1\n",
    "from sklearn.cluster import AgglomerativeClustering # Hierarchical clustering algorithm। \n",
    "                                                     #(bottom-up approach)\n",
    "import matplotlib.pyplot as plt #make plot\n",
    "import seaborn as sns #make nice graph \n",
    "\n",
    "\n",
    "#Standardize the data before clustering\n",
    "scaler = StandardScaler()\n",
    "scaled_data = scaler.fit_transform(df)\n"
   ]
  },
  {
   "cell_type": "markdown",
   "id": "fb724223",
   "metadata": {},
   "source": [
    "# Determine N of clusters using Dendogram"
   ]
  },
  {
   "cell_type": "code",
   "execution_count": 23,
   "id": "0d253cb9",
   "metadata": {},
   "outputs": [
    {
     "data": {
      "image/png": "[encoded data removed]",
      "text/plain": [
       "<Figure size 1000x700 with 1 Axes>"
      ]
     },
     "metadata": {},
     "output_type": "display_data"
    }
   ],
   "source": [
    "from scipy.cluster.hierarchy import dendrogram, linkage \n",
    "#Hierarchical clustering linkage matrix তৈরি করে। --- linkage\n",
    "# একাধিক পয়েন্টকে কীভাবে মিলে গ্রুপ হবে, সেটার হিসাব করে। --linkage\n",
    "# method='ward' = ক্লাস্টারিং-এর জন্য Ward's method ব্যবহার করা হয়েছে\n",
    "# (যেটা ভ্যারিয়েন্স কমিয়ে ক্লাস্টার বানায়) ছড়াছড়ি সবচেয়ে কম হয়।\n",
    "\n",
    "# linkage matrix is a 2D array\n",
    "# where two cluster are merging\n",
    "#how far is the marge \n",
    "#How many elements does that cluster consist of?\n",
    "\n",
    "\n",
    "# dendrogram see graph or tree\n",
    "\n",
    "#generate the linkage matrix using ward's method \n",
    "linked = linkage(scaled_data, method='ward')  # ← সঠিক\n",
    "\n",
    "\n",
    "\n",
    "#plot the dendrogram\n",
    "plt.figure(figsize=(10,7))\n",
    "dendrogram(linked)\n",
    "plt.title(\"dendrogram\")\n",
    "plt.xlabel('Samples')\n",
    "plt.ylabel(\"Distance\")\n",
    "plt.show()\n",
    "\n"
   ]
  },
  {
   "cell_type": "markdown",
   "id": "bb2059e2",
   "metadata": {},
   "source": [
    "# Apply Agglomerative Clustering"
   ]
  },
  {
   "cell_type": "code",
   "execution_count": 27,
   "id": "fd3f52d4",
   "metadata": {},
   "outputs": [
    {
     "data": {
      "text/html": [
       "<div>\n",
       "<style scoped>\n",
       "    .dataframe tbody tr th:only-of-type {\n",
       "        vertical-align: middle;\n",
       "    }\n",
       "\n",
       "    .dataframe tbody tr th {\n",
       "        vertical-align: top;\n",
       "    }\n",
       "\n",
       "    .dataframe thead th {\n",
       "        text-align: right;\n",
       "    }\n",
       "</style>\n",
       "<table border=\"1\" class=\"dataframe\">\n",
       "  <thead>\n",
       "    <tr style=\"text-align: right;\">\n",
       "      <th></th>\n",
       "      <th>Session_Duration</th>\n",
       "      <th>Pages_Visited</th>\n",
       "      <th>Items_in_Cart</th>\n",
       "      <th>Avg_Session_Value</th>\n",
       "      <th>Time_Spent_on_Site</th>\n",
       "      <th>Purchase_History</th>\n",
       "      <th>cluster</th>\n",
       "    </tr>\n",
       "  </thead>\n",
       "  <tbody>\n",
       "    <tr>\n",
       "      <th>0</th>\n",
       "      <td>23</td>\n",
       "      <td>5</td>\n",
       "      <td>3</td>\n",
       "      <td>100</td>\n",
       "      <td>150</td>\n",
       "      <td>5</td>\n",
       "      <td>1</td>\n",
       "    </tr>\n",
       "    <tr>\n",
       "      <th>1</th>\n",
       "      <td>45</td>\n",
       "      <td>8</td>\n",
       "      <td>6</td>\n",
       "      <td>300</td>\n",
       "      <td>180</td>\n",
       "      <td>12</td>\n",
       "      <td>0</td>\n",
       "    </tr>\n",
       "    <tr>\n",
       "      <th>2</th>\n",
       "      <td>15</td>\n",
       "      <td>2</td>\n",
       "      <td>1</td>\n",
       "      <td>80</td>\n",
       "      <td>70</td>\n",
       "      <td>2</td>\n",
       "      <td>1</td>\n",
       "    </tr>\n",
       "    <tr>\n",
       "      <th>3</th>\n",
       "      <td>67</td>\n",
       "      <td>10</td>\n",
       "      <td>9</td>\n",
       "      <td>450</td>\n",
       "      <td>230</td>\n",
       "      <td>15</td>\n",
       "      <td>0</td>\n",
       "    </tr>\n",
       "    <tr>\n",
       "      <th>4</th>\n",
       "      <td>34</td>\n",
       "      <td>7</td>\n",
       "      <td>4</td>\n",
       "      <td>200</td>\n",
       "      <td>140</td>\n",
       "      <td>10</td>\n",
       "      <td>0</td>\n",
       "    </tr>\n",
       "  </tbody>\n",
       "</table>\n",
       "</div>"
      ],
      "text/plain": [
       "   Session_Duration  Pages_Visited  Items_in_Cart  Avg_Session_Value  \\\n",
       "0                23              5              3                100   \n",
       "1                45              8              6                300   \n",
       "2                15              2              1                 80   \n",
       "3                67             10              9                450   \n",
       "4                34              7              4                200   \n",
       "\n",
       "   Time_Spent_on_Site  Purchase_History  cluster  \n",
       "0                 150                 5        1  \n",
       "1                 180                12        0  \n",
       "2                  70                 2        1  \n",
       "3                 230                15        0  \n",
       "4                 140                10        0  "
      ]
     },
     "execution_count": 27,
     "metadata": {},
     "output_type": "execute_result"
    }
   ],
   "source": [
    "\n",
    "#\"Divide me into 2 groups in such a way,  -- n_clusters = 2\n",
    "#that the variation within each group is minimal,  -- ward method \n",
    "#and the distance will be measured using the Euclidean rule.\" -- metric = euclidean\n",
    "\n",
    "\n",
    "agg_clustering = AgglomerativeClustering(n_clusters = 2 , metric = 'euclidean' , linkage='ward')\n",
    "cluster_labels = agg_clustering.fit_predict(scaled_data)\n",
    "\n",
    "\n",
    "#add the cluster labels to the orginal dataframe\n",
    "df['cluster'] = cluster_labels\n",
    "\n",
    "#display the clustered data \n",
    "df.head()\n"
   ]
  },
  {
   "cell_type": "markdown",
   "id": "01ba2e88",
   "metadata": {},
   "source": [
    "# Dataset Analysis\n"
   ]
  },
  {
   "cell_type": "raw",
   "id": "cff50ba0",
   "metadata": {},
   "source": [
    "Higher session duration: Users in this cluster spend more time on the site, visit more pages, and add more items to the cart.\n",
    "\n",
    "High average session value: Their average session value and purchase history are significantly higher.\n",
    "\n",
    "Cluster 1:\n",
    "\n",
    "Lower session duration: Users in this cluster tend to spend less time on the site and visit fewer pages.\n",
    "\n",
    "Lower engagement: They add fewer items to the cart and have a lower average session value and purchase history."
   ]
  },
  {
   "cell_type": "markdown",
   "id": "91b977a2",
   "metadata": {},
   "source": [
    "# Suggested Names for Clusters"
   ]
  },
  {
   "cell_type": "raw",
   "id": "80f2c221",
   "metadata": {},
   "source": [
    "Based on these observations:\n",
    "\n",
    "Cluster 0: \"Premium Customers\"\n",
    "\n",
    "These users are highly engaged with the website, spend more time, visit more pages, and are likely to make high-value purchases.\n",
    "\n",
    "Cluster 1: \"One-Time Browsers\"\n",
    "\n",
    "These users are less engaged, with shorter session durations, fewer items added to the cart, and lower overall spending."
   ]
  },
  {
   "cell_type": "code",
   "execution_count": 28,
   "id": "e2b6e7e8",
   "metadata": {},
   "outputs": [],
   "source": [
    "#assign cluster names\n",
    "cluster_names = {0:'Premium Customers',1:'One-Time Browsers'}\n",
    "df['cluster_name'] = df['cluster'].map(cluster_names)"
   ]
  },
  {
   "cell_type": "code",
   "execution_count": 30,
   "id": "d9d76cfc",
   "metadata": {},
   "outputs": [
    {
     "data": {
      "text/html": [
       "<div>\n",
       "<style scoped>\n",
       "    .dataframe tbody tr th:only-of-type {\n",
       "        vertical-align: middle;\n",
       "    }\n",
       "\n",
       "    .dataframe tbody tr th {\n",
       "        vertical-align: top;\n",
       "    }\n",
       "\n",
       "    .dataframe thead th {\n",
       "        text-align: right;\n",
       "    }\n",
       "</style>\n",
       "<table border=\"1\" class=\"dataframe\">\n",
       "  <thead>\n",
       "    <tr style=\"text-align: right;\">\n",
       "      <th></th>\n",
       "      <th>Session_Duration</th>\n",
       "      <th>Pages_Visited</th>\n",
       "      <th>Items_in_Cart</th>\n",
       "      <th>Avg_Session_Value</th>\n",
       "      <th>Time_Spent_on_Site</th>\n",
       "      <th>Purchase_History</th>\n",
       "      <th>cluster</th>\n",
       "      <th>cluster_name</th>\n",
       "    </tr>\n",
       "  </thead>\n",
       "  <tbody>\n",
       "    <tr>\n",
       "      <th>0</th>\n",
       "      <td>23</td>\n",
       "      <td>5</td>\n",
       "      <td>3</td>\n",
       "      <td>100</td>\n",
       "      <td>150</td>\n",
       "      <td>5</td>\n",
       "      <td>1</td>\n",
       "      <td>One-Time Browsers</td>\n",
       "    </tr>\n",
       "    <tr>\n",
       "      <th>1</th>\n",
       "      <td>45</td>\n",
       "      <td>8</td>\n",
       "      <td>6</td>\n",
       "      <td>300</td>\n",
       "      <td>180</td>\n",
       "      <td>12</td>\n",
       "      <td>0</td>\n",
       "      <td>Premium Customers</td>\n",
       "    </tr>\n",
       "    <tr>\n",
       "      <th>2</th>\n",
       "      <td>15</td>\n",
       "      <td>2</td>\n",
       "      <td>1</td>\n",
       "      <td>80</td>\n",
       "      <td>70</td>\n",
       "      <td>2</td>\n",
       "      <td>1</td>\n",
       "      <td>One-Time Browsers</td>\n",
       "    </tr>\n",
       "    <tr>\n",
       "      <th>3</th>\n",
       "      <td>67</td>\n",
       "      <td>10</td>\n",
       "      <td>9</td>\n",
       "      <td>450</td>\n",
       "      <td>230</td>\n",
       "      <td>15</td>\n",
       "      <td>0</td>\n",
       "      <td>Premium Customers</td>\n",
       "    </tr>\n",
       "    <tr>\n",
       "      <th>4</th>\n",
       "      <td>34</td>\n",
       "      <td>7</td>\n",
       "      <td>4</td>\n",
       "      <td>200</td>\n",
       "      <td>140</td>\n",
       "      <td>10</td>\n",
       "      <td>0</td>\n",
       "      <td>Premium Customers</td>\n",
       "    </tr>\n",
       "  </tbody>\n",
       "</table>\n",
       "</div>"
      ],
      "text/plain": [
       "   Session_Duration  Pages_Visited  Items_in_Cart  Avg_Session_Value  \\\n",
       "0                23              5              3                100   \n",
       "1                45              8              6                300   \n",
       "2                15              2              1                 80   \n",
       "3                67             10              9                450   \n",
       "4                34              7              4                200   \n",
       "\n",
       "   Time_Spent_on_Site  Purchase_History  cluster       cluster_name  \n",
       "0                 150                 5        1  One-Time Browsers  \n",
       "1                 180                12        0  Premium Customers  \n",
       "2                  70                 2        1  One-Time Browsers  \n",
       "3                 230                15        0  Premium Customers  \n",
       "4                 140                10        0  Premium Customers  "
      ]
     },
     "execution_count": 30,
     "metadata": {},
     "output_type": "execute_result"
    }
   ],
   "source": [
    "df.head()"
   ]
  },
  {
   "cell_type": "markdown",
   "id": "06b80d67",
   "metadata": {},
   "source": [
    "# visualize the clustering result"
   ]
  },
  {
   "cell_type": "code",
   "execution_count": 41,
   "id": "9046874b",
   "metadata": {},
   "outputs": [
    {
     "data": {
      "text/plain": [
       "<AxesSubplot: xlabel='Session_Duration', ylabel='Avg_Session_Value'>"
      ]
     },
     "execution_count": 41,
     "metadata": {},
     "output_type": "execute_result"
    },
    {
     "data": {
      "image/png": "[encoded data removed]",
      "text/plain": [
       "<Figure size 1000x600 with 1 Axes>"
      ]
     },
     "metadata": {},
     "output_type": "display_data"
    }
   ],
   "source": [
    "#visualize the clusters using a scatter plot \n",
    "#(e.g., based on Session_Duration and Avg_Session_Value)\n",
    "\n",
    "\n",
    "plt.figure(figsize=(10,6))\n",
    "sns.scatterplot(x=df['Session_Duration'], y = df['Avg_Session_Value'],hue=df['cluster'],palette='viridis')"
   ]
  },
  {
   "cell_type": "code",
   "execution_count": null,
   "id": "3b6d0eb9",
   "metadata": {},
   "outputs": [],
   "source": []
  },
  {
   "cell_type": "code",
   "execution_count": null,
   "id": "3d7286e4",
   "metadata": {},
   "outputs": [],
   "source": []
  }
 ],
 "metadata": {
  "kernelspec": {
   "display_name": "Python 3 (ipykernel)",
   "language": "python",
   "name": "python3"
  },
  "language_info": {
   "codemirror_mode": {
    "name": "ipython",
    "version": 3
   },
   "file_extension": ".py",
   "mimetype": "text/x-python",
   "name": "python",
   "nbconvert_exporter": "python",
   "pygments_lexer": "ipython3",
   "version": "3.11.6"
  }
 },
 "nbformat": 4,
 "nbformat_minor": 5
}
